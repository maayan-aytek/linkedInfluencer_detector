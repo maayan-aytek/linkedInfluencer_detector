{
 "cells": [
  {
   "cell_type": "markdown",
   "metadata": {},
   "source": [
    "# Model building"
   ]
  },
  {
   "cell_type": "markdown",
   "metadata": {},
   "source": [
    "### pre process"
   ]
  },
  {
   "cell_type": "code",
   "execution_count": 170,
   "metadata": {},
   "outputs": [],
   "source": [
    "from sklearn.model_selection import train_test_split\n",
    "from sklearn.linear_model import LogisticRegression\n",
    "from sklearn.ensemble import RandomForestClassifier\n",
    "from xgboost import XGBClassifier\n",
    "from sklearn.metrics import f1_score\n",
    "from sentence_transformers import SentenceTransformer\n",
    "import numpy as np\n",
    "from sklearn.decomposition import PCA\n",
    "from sklearn.model_selection import StratifiedKFold\n",
    "from functools import partial\n",
    "import pandas as pd\n",
    "import pickle\n",
    "\n",
    "# Loading embedding model for the textual features\n",
    "embedding_model = SentenceTransformer('all-MiniLM-L6-v2')\n",
    "def get_sentence_embedding(text):\n",
    "    embedding = embedding_model.encode(text, convert_to_tensor=False)\n",
    "    return np.array(embedding)\n",
    "\n",
    "\n",
    "def string_to_embedding_feature(df, col):\n",
    "    \"\"\"\n",
    "    Convert string column to embedding vector \n",
    "    \"\"\"\n",
    "    df[col] = df[col].astype(str).fillna(\" \") # fill missing values \n",
    "    df[f'{col}_embedding'] = df[col].apply(get_sentence_embedding)\n",
    "    pca = PCA(n_components=50) # Reduce embedding size to 50 \n",
    "    df_pca = pca.fit_transform(np.stack(df[f'{col}_embedding']))\n",
    "    df_pca = pd.DataFrame(df_pca, columns=[f'{col}_pca_{i+1}' for i in range(df_pca.shape[1])]).reset_index(drop=True)\n",
    "    pickle_out = open(f\"trained_models/pca_trained_{col}.pickle\", \"wb\")\n",
    "    pickle.dump(pca, pickle_out)\n",
    "    pickle_out.close()\n",
    "    return df_pca\n",
    "\n",
    "\n",
    "def pre_process(df, used_features):\n",
    "    \"\"\"\n",
    "    Prepare df for modeling- split into X (features) and y (labels)\n",
    "    \"\"\"\n",
    "    df['connections'] = df['connections'].astype(int)\n",
    "    numeric_features = used_features['numeric']\n",
    "    X = df[numeric_features].reset_index(drop=True)\n",
    "    for text_col in used_features['textual']:\n",
    "        df_pca = string_to_embedding_feature(df, text_col)\n",
    "        X = pd.concat([X, df_pca], axis=1)\n",
    "    y = df['is_influencer']\n",
    "    return X, y\n",
    "\n",
    "\n",
    "def learn_and_eval(X, y, model_class):\n",
    "    \"\"\"\n",
    "    Model Evaluation: Preform StratifiedKFold CV (because of label unbalancing) and calculate f1 score\n",
    "    \"\"\"\n",
    "    print(model_class)\n",
    "    skf = StratifiedKFold(n_splits=5, shuffle=True, random_state=42)\n",
    "    f1 = []\n",
    "    for train_index, test_index in skf.split(X, y):\n",
    "        X_train, X_test = X.iloc[train_index], X.iloc[test_index]\n",
    "        y_train, y_test = y.iloc[train_index], y.iloc[test_index]\n",
    "        y_train, y_test = y_train.values.ravel(), y_test.values.ravel(), \n",
    "        model = model_class()\n",
    "        model.fit(X_train, y_train)\n",
    "        y_pred = model.predict(X_test)\n",
    "        fold_f1 = f1_score(y_test, y_pred)\n",
    "        f1.append(fold_f1)\n",
    "    \n",
    "    avg_f1 = sum(f1)/len(f1)\n",
    "    print(f\"Average f1: {avg_f1}\")\n",
    "    return avg_f1"
   ]
  },
  {
   "cell_type": "markdown",
   "metadata": {},
   "source": [
    "### Testing Several Models"
   ]
  },
  {
   "cell_type": "code",
   "execution_count": 158,
   "metadata": {},
   "outputs": [
    {
     "name": "stdout",
     "output_type": "stream",
     "text": [
      "DataFrame Shape:  (760, 21)\n"
     ]
    },
    {
     "data": {
      "text/html": [
       "<div>\n",
       "<style scoped>\n",
       "    .dataframe tbody tr th:only-of-type {\n",
       "        vertical-align: middle;\n",
       "    }\n",
       "\n",
       "    .dataframe tbody tr th {\n",
       "        vertical-align: top;\n",
       "    }\n",
       "\n",
       "    .dataframe thead th {\n",
       "        text-align: right;\n",
       "    }\n",
       "</style>\n",
       "<table border=\"1\" class=\"dataframe\">\n",
       "  <thead>\n",
       "    <tr style=\"text-align: right;\">\n",
       "      <th></th>\n",
       "      <th>about</th>\n",
       "      <th>connections</th>\n",
       "      <th>is_influencer</th>\n",
       "      <th>certifications</th>\n",
       "      <th>education</th>\n",
       "      <th>experience</th>\n",
       "      <th>followers</th>\n",
       "      <th>languages</th>\n",
       "      <th>position</th>\n",
       "      <th>posts</th>\n",
       "      <th>...</th>\n",
       "      <th>recommendations_count</th>\n",
       "      <th>volunteer_experience</th>\n",
       "      <th>сourses</th>\n",
       "      <th>certifications_count</th>\n",
       "      <th>volunteer_experience_count</th>\n",
       "      <th>сourses_count</th>\n",
       "      <th>education_count</th>\n",
       "      <th>experience_count</th>\n",
       "      <th>posts_count</th>\n",
       "      <th>languages_count</th>\n",
       "    </tr>\n",
       "  </thead>\n",
       "  <tbody>\n",
       "    <tr>\n",
       "      <th>0</th>\n",
       "      <td>NaN</td>\n",
       "      <td>2</td>\n",
       "      <td>0.0</td>\n",
       "      <td>[]</td>\n",
       "      <td>[]</td>\n",
       "      <td>[{'subtitle': 'Montana State University Billin...</td>\n",
       "      <td>2.0</td>\n",
       "      <td>[]</td>\n",
       "      <td>Student Support Specialist at Montana State Un...</td>\n",
       "      <td>[]</td>\n",
       "      <td>...</td>\n",
       "      <td>NaN</td>\n",
       "      <td>[]</td>\n",
       "      <td>[]</td>\n",
       "      <td>0</td>\n",
       "      <td>0</td>\n",
       "      <td>0</td>\n",
       "      <td>0.0</td>\n",
       "      <td>1.0</td>\n",
       "      <td>0</td>\n",
       "      <td>0</td>\n",
       "    </tr>\n",
       "    <tr>\n",
       "      <th>1</th>\n",
       "      <td>NaN</td>\n",
       "      <td>113</td>\n",
       "      <td>0.0</td>\n",
       "      <td>[{'subtitle': 'Achievement', 'title': 'Dragon ...</td>\n",
       "      <td>[{'degree': 'Associate's degree', 'end_year': ...</td>\n",
       "      <td>[{'duration': 'Jun 2016 - Present 7 years 4 mo...</td>\n",
       "      <td>114.0</td>\n",
       "      <td>[{'subtitle': '-', 'title': 'English'}]</td>\n",
       "      <td>--</td>\n",
       "      <td>[]</td>\n",
       "      <td>...</td>\n",
       "      <td>NaN</td>\n",
       "      <td>[]</td>\n",
       "      <td>[]</td>\n",
       "      <td>1</td>\n",
       "      <td>0</td>\n",
       "      <td>0</td>\n",
       "      <td>3.0</td>\n",
       "      <td>3.0</td>\n",
       "      <td>0</td>\n",
       "      <td>1</td>\n",
       "    </tr>\n",
       "  </tbody>\n",
       "</table>\n",
       "<p>2 rows × 21 columns</p>\n",
       "</div>"
      ],
      "text/plain": [
       "  about connections  is_influencer  \\\n",
       "0   NaN           2            0.0   \n",
       "1   NaN         113            0.0   \n",
       "\n",
       "                                      certifications  \\\n",
       "0                                                 []   \n",
       "1  [{'subtitle': 'Achievement', 'title': 'Dragon ...   \n",
       "\n",
       "                                           education  \\\n",
       "0                                                 []   \n",
       "1  [{'degree': 'Associate's degree', 'end_year': ...   \n",
       "\n",
       "                                          experience  followers  \\\n",
       "0  [{'subtitle': 'Montana State University Billin...        2.0   \n",
       "1  [{'duration': 'Jun 2016 - Present 7 years 4 mo...      114.0   \n",
       "\n",
       "                                 languages  \\\n",
       "0                                       []   \n",
       "1  [{'subtitle': '-', 'title': 'English'}]   \n",
       "\n",
       "                                            position posts  ...  \\\n",
       "0  Student Support Specialist at Montana State Un...    []  ...   \n",
       "1                                                 --    []  ...   \n",
       "\n",
       "  recommendations_count  volunteer_experience сourses certifications_count  \\\n",
       "0                   NaN                    []      []                    0   \n",
       "1                   NaN                    []      []                    1   \n",
       "\n",
       "   volunteer_experience_count  сourses_count  education_count  \\\n",
       "0                           0              0              0.0   \n",
       "1                           0              0              3.0   \n",
       "\n",
       "   experience_count  posts_count  languages_count  \n",
       "0               1.0            0                0  \n",
       "1               3.0            0                1  \n",
       "\n",
       "[2 rows x 21 columns]"
      ]
     },
     "execution_count": 158,
     "metadata": {},
     "output_type": "execute_result"
    }
   ],
   "source": [
    "import pandas as pd\n",
    "# Read the data\n",
    "df = pd.read_pickle(\"data/df_for_modeling.pickle\")\n",
    "print(\"DataFrame Shape: \", df.shape)\n",
    "df.head(2)"
   ]
  },
  {
   "cell_type": "code",
   "execution_count": 173,
   "metadata": {},
   "outputs": [
    {
     "name": "stdout",
     "output_type": "stream",
     "text": [
      "functools.partial(<class 'sklearn.linear_model._logistic.LogisticRegression'>, max_iter=10000)\n",
      "Average f1: 0.7784265010351967\n",
      "functools.partial(<class 'xgboost.sklearn.XGBClassifier'>, n_estimators=200, max_depth=30, eta=0.1, gamma=0.2, reg_lambda=0.5, min_child_weight=2)\n",
      "Average f1: 0.8451511387163562\n",
      "functools.partial(<class 'sklearn.ensemble._forest.RandomForestClassifier'>, max_depth=30)\n",
      "Average f1: 0.6366471734892787\n"
     ]
    }
   ],
   "source": [
    "used_features = {'numeric': ['followers', 'posts_count', 'experience_count', 'education_count'], 'textual': ['about', 'position', 'recommendations']}\n",
    "X, y = pre_process(df, used_features=used_features)\n",
    "lr_model = partial(LogisticRegression, max_iter=10000)\n",
    "xgb_model = partial(XGBClassifier, n_estimators=200, max_depth=30, eta=0.1, gamma=0.2, reg_lambda=0.5, min_child_weight=2)\n",
    "rf_model = partial(RandomForestClassifier, max_depth=30)\n",
    "f1_lr = learn_and_eval(X, y, lr_model)\n",
    "f1_xgb = learn_and_eval(X, y, xgb_model)\n",
    "f1_rf = learn_and_eval(X, y, rf_model)"
   ]
  },
  {
   "cell_type": "code",
   "execution_count": 174,
   "metadata": {},
   "outputs": [
    {
     "data": {
      "image/png": "[encoded data removed]",
      "text/plain": [
       "<Figure size 800x600 with 1 Axes>"
      ]
     },
     "metadata": {},
     "output_type": "display_data"
    }
   ],
   "source": [
    "import seaborn as sns\n",
    "import matplotlib.pyplot as plt\n",
    "\n",
    "# model comparison visualization \n",
    "models = ['Logistic Regression', 'XGB', 'Random Forest']\n",
    "average_f1_scores = [f1_lr, f1_xgb, f1_rf]\n",
    "plt.figure(figsize=(8, 6))\n",
    "sns.barplot(x=models, y=average_f1_scores)\n",
    "plt.title('Average F1 Scores of Different Models', weight=\"bold\")\n",
    "plt.xlabel('Models', weight=\"bold\")\n",
    "plt.ylabel('Average F1 Score', weight=\"bold\")\n",
    "\n",
    "plt.ylim(0, 1) \n",
    "plt.show()\n"
   ]
  },
  {
   "cell_type": "markdown",
   "metadata": {},
   "source": [
    "### Training the model on the entire data (for the courses recommendations part)"
   ]
  },
  {
   "cell_type": "code",
   "execution_count": 176,
   "metadata": {},
   "outputs": [],
   "source": [
    "model = XGBClassifier(n_estimators=200, max_depth=30, eta=0.1, gamma=0.2, reg_lambda=0.5, min_child_weight=2) \n",
    "model.fit(X, y)\n",
    "model_pickle_out = open(f\"trained_models/trained_model.pickle\", \"wb\")\n",
    "pickle.dump(model, model_pickle_out)\n",
    "model_pickle_out.close()"
   ]
  }
 ],
 "metadata": {
  "kernelspec": {
   "display_name": "Python 3",
   "language": "python",
   "name": "python3"
  },
  "language_info": {
   "codemirror_mode": {
    "name": "ipython",
    "version": 3
   },
   "file_extension": ".py",
   "mimetype": "text/x-python",
   "name": "python",
   "nbconvert_exporter": "python",
   "pygments_lexer": "ipython3",
   "version": "3.9.6"
  }
 },
 "nbformat": 4,
 "nbformat_minor": 2
}
